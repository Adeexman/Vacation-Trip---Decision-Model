{
 "cells": [
  {
   "cell_type": "code",
   "execution_count": 1,
   "id": "460c02a8",
   "metadata": {},
   "outputs": [],
   "source": [
    "from math import *\n",
    "import pandas as pd\n",
    "import numpy as np\n",
    "import matplotlib.pyplot as plt\n",
    "import seaborn as sns"
   ]
  },
  {
   "cell_type": "markdown",
   "id": "ee1259e8",
   "metadata": {},
   "source": [
    "### Assume we are a Travel Company offering several traveling services. This year, we collaborated with a vacation planning company in four differents cities of the world. Let's say we have customers on our site who are interested in planned vacation and they came across these opportunity to travel to any of these four destinations with planned vacations."
   ]
  },
  {
   "cell_type": "markdown",
   "id": "66b1dafb",
   "metadata": {},
   "source": [
    "### Among the site visitors we have a singles, newly wedded couples and families of different sizes planning for mid-year vacation and they decided to opt for planned vacation. Their challenge is deciding if Paris, London, Dubai or Mumbai is the best destination for this year's vacation. Many have not decided because of the following reason.\n",
    "### 1). Some of them do not know what it will cost to travel to each of these cities.\n",
    "### 2). Many want to know where they will spend the least or maximum amount of money based on their family size.\n",
    "### 3). Some are financially constrained and are concerned about where they can have the longest stay within their budget."
   ]
  },
  {
   "cell_type": "markdown",
   "id": "bbcd6258",
   "metadata": {},
   "source": [
    "### To answer their questions as a company, we can create a portal on our site with an in-built calculator that takes in data from customers, process it and give back a valuable answer or feedback to help customers make a decision."
   ]
  },
  {
   "cell_type": "markdown",
   "id": "e3200eb6",
   "metadata": {},
   "source": [
    "### For the purpose of this project, lets assume we have data containing the cost of basic travel expenses for these four cities, which is a table in our case. We can write a function that answers these questions using the information provided in the table"
   ]
  },
  {
   "cell_type": "code",
   "execution_count": 2,
   "id": "8adcd796",
   "metadata": {},
   "outputs": [],
   "source": [
    "#The line of code below helps us access the file from our directory\n",
    "VacationData=pd.read_excel(\"./Downloads/Vacation.xlsx\")"
   ]
  },
  {
   "cell_type": "code",
   "execution_count": 3,
   "id": "457129fe",
   "metadata": {},
   "outputs": [
    {
     "data": {
      "text/html": [
       "<div>\n",
       "<style scoped>\n",
       "    .dataframe tbody tr th:only-of-type {\n",
       "        vertical-align: middle;\n",
       "    }\n",
       "\n",
       "    .dataframe tbody tr th {\n",
       "        vertical-align: top;\n",
       "    }\n",
       "\n",
       "    .dataframe thead th {\n",
       "        text-align: right;\n",
       "    }\n",
       "</style>\n",
       "<table border=\"1\" class=\"dataframe\">\n",
       "  <thead>\n",
       "    <tr style=\"text-align: right;\">\n",
       "      <th></th>\n",
       "      <th>Unnamed: 0</th>\n",
       "      <th>City</th>\n",
       "      <th>Cost_of_Hotel/Day</th>\n",
       "      <th>Car_Rental/Week</th>\n",
       "      <th>Flight_Return_Ticket</th>\n",
       "    </tr>\n",
       "  </thead>\n",
       "  <tbody>\n",
       "    <tr>\n",
       "      <th>0</th>\n",
       "      <td>NaN</td>\n",
       "      <td>London</td>\n",
       "      <td>$30</td>\n",
       "      <td>$120</td>\n",
       "      <td>$250</td>\n",
       "    </tr>\n",
       "    <tr>\n",
       "      <th>1</th>\n",
       "      <td>NaN</td>\n",
       "      <td>Paris</td>\n",
       "      <td>20</td>\n",
       "      <td>200</td>\n",
       "      <td>200</td>\n",
       "    </tr>\n",
       "    <tr>\n",
       "      <th>2</th>\n",
       "      <td>NaN</td>\n",
       "      <td>Mumbai</td>\n",
       "      <td>10</td>\n",
       "      <td>70</td>\n",
       "      <td>450</td>\n",
       "    </tr>\n",
       "    <tr>\n",
       "      <th>3</th>\n",
       "      <td>NaN</td>\n",
       "      <td>Dubai</td>\n",
       "      <td>15</td>\n",
       "      <td>80</td>\n",
       "      <td>370</td>\n",
       "    </tr>\n",
       "  </tbody>\n",
       "</table>\n",
       "</div>"
      ],
      "text/plain": [
       "   Unnamed: 0    City Cost_of_Hotel/Day Car_Rental/Week Flight_Return_Ticket\n",
       "0         NaN  London              $30            $120                 $250 \n",
       "1         NaN   Paris                20             200                  200\n",
       "2         NaN  Mumbai                10              70                  450\n",
       "3         NaN   Dubai                15              80                  370"
      ]
     },
     "execution_count": 3,
     "metadata": {},
     "output_type": "execute_result"
    }
   ],
   "source": [
    "VacationData"
   ]
  },
  {
   "cell_type": "code",
   "execution_count": 4,
   "id": "5317ede5",
   "metadata": {},
   "outputs": [],
   "source": [
    "#We do have a column \"Unnamed: 0\" which we don't need on our table, the line of code below helps us get rid of it.\n",
    "VacationData.drop(columns=\"Unnamed: 0\", inplace=True)"
   ]
  },
  {
   "cell_type": "code",
   "execution_count": 5,
   "id": "190b8a8d",
   "metadata": {},
   "outputs": [
    {
     "data": {
      "text/html": [
       "<div>\n",
       "<style scoped>\n",
       "    .dataframe tbody tr th:only-of-type {\n",
       "        vertical-align: middle;\n",
       "    }\n",
       "\n",
       "    .dataframe tbody tr th {\n",
       "        vertical-align: top;\n",
       "    }\n",
       "\n",
       "    .dataframe thead th {\n",
       "        text-align: right;\n",
       "    }\n",
       "</style>\n",
       "<table border=\"1\" class=\"dataframe\">\n",
       "  <thead>\n",
       "    <tr style=\"text-align: right;\">\n",
       "      <th></th>\n",
       "      <th>City</th>\n",
       "      <th>Cost_of_Hotel/Day</th>\n",
       "      <th>Car_Rental/Week</th>\n",
       "      <th>Flight_Return_Ticket</th>\n",
       "    </tr>\n",
       "  </thead>\n",
       "  <tbody>\n",
       "    <tr>\n",
       "      <th>0</th>\n",
       "      <td>London</td>\n",
       "      <td>$30</td>\n",
       "      <td>$120</td>\n",
       "      <td>$250</td>\n",
       "    </tr>\n",
       "    <tr>\n",
       "      <th>1</th>\n",
       "      <td>Paris</td>\n",
       "      <td>20</td>\n",
       "      <td>200</td>\n",
       "      <td>200</td>\n",
       "    </tr>\n",
       "    <tr>\n",
       "      <th>2</th>\n",
       "      <td>Mumbai</td>\n",
       "      <td>10</td>\n",
       "      <td>70</td>\n",
       "      <td>450</td>\n",
       "    </tr>\n",
       "    <tr>\n",
       "      <th>3</th>\n",
       "      <td>Dubai</td>\n",
       "      <td>15</td>\n",
       "      <td>80</td>\n",
       "      <td>370</td>\n",
       "    </tr>\n",
       "  </tbody>\n",
       "</table>\n",
       "</div>"
      ],
      "text/plain": [
       "     City Cost_of_Hotel/Day Car_Rental/Week Flight_Return_Ticket\n",
       "0  London              $30            $120                 $250 \n",
       "1   Paris                20             200                  200\n",
       "2  Mumbai                10              70                  450\n",
       "3   Dubai                15              80                  370"
      ]
     },
     "execution_count": 5,
     "metadata": {},
     "output_type": "execute_result"
    }
   ],
   "source": [
    "VacationData"
   ]
  },
  {
   "cell_type": "markdown",
   "id": "d5eb3d4c",
   "metadata": {},
   "source": [
    "### This line of code below solves the question of cost of travel to any of the four cities. The cost is determined by the customer's choice of city, the number of travelles and the number of days they intend to spend during their stay."
   ]
  },
  {
   "cell_type": "code",
   "execution_count": 6,
   "id": "64ab2a88",
   "metadata": {},
   "outputs": [
    {
     "name": "stdout",
     "output_type": "stream",
     "text": [
      "Which city would you love to visit: London\n",
      "How many days do you want to spend:3\n",
      "Note: No_of_Travellers for a combo cannot exceed 6 because the maximum seats available for a rental car is 6\n",
      "How many individuals would be traveling:2\n",
      "A planned vacation in London for 3 days, will cost you $731.4285714285714.\n"
     ]
    }
   ],
   "source": [
    "Cities = [\"Paris\", \"London\", \"Dubai\", \"Mumbai\"] \n",
    "Answer = \"\"\n",
    "Answer = input(\"Which city would you love to visit: \")\n",
    "No_of_Days = input(\"How many days do you want to spend:\")\n",
    "print(\"Note: No_of_Travellers for a combo cannot exceed 6 because the maximum seats available for a rental car is 6\")\n",
    "No_of_Travellers = input(\"How many individuals would be traveling:\")\n",
    "#Formula: \n",
    "#City = (No_of_Travellers) * (Return_Ticket + Hotel_per_day + Daily Car Rental) we converted the weekly rate to daily rate by dividing it by 7)\n",
    "Paris = (float(No_of_Travellers) * ((200) + (20*float(No_of_Days)))) + ((200/7)*float(No_of_Days))\n",
    "London = (float(No_of_Travellers) * ((250) + (30*float(No_of_Days)))) + ((120/7)*float(No_of_Days))\n",
    "Dubai = (float(No_of_Travellers) * ((370) + (15*float(No_of_Days)))) + ((80/7)*float(No_of_Days))\n",
    "Mumbai = (float(No_of_Travellers) * ((450) + (10*float(No_of_Days)))) + ((70/7)*float(No_of_Days))\n",
    "if Answer == Cities[0] :\n",
    "    print(\"A planned vacation in Paris for {} days, will cost you $\".format(No_of_Days) + str(Paris) + \".\")\n",
    "elif Answer == Cities[1]:\n",
    "    print(\"A planned vacation in London for {} days, will cost you $\".format(No_of_Days) + str(London) + \".\")\n",
    "elif Answer == Cities[2]:\n",
    "    print(\"A planned Vacation in Dubai for {} days, will cost you $\".format(No_of_Days) + str(Dubai) + \".\")\n",
    "elif Answer == Cities[3]:\n",
    "    print(\"A planned vacation in Mumbai for {} days, will cost you $\".format(No_of_Days) + str(Mumbai) + \".\")"
   ]
  },
  {
   "cell_type": "markdown",
   "id": "07bb2eea",
   "metadata": {},
   "source": []
  },
  {
   "cell_type": "markdown",
   "id": "9db591b9",
   "metadata": {},
   "source": [
    "### To answer question 2, let's write a function that determines the destination with the cheapest cost based on the number of travellers and the number of days they want to spend. The function operates on comparison of the cost for vacation in each of the four cities."
   ]
  },
  {
   "cell_type": "code",
   "execution_count": 7,
   "id": "420b4458",
   "metadata": {},
   "outputs": [
    {
     "name": "stdout",
     "output_type": "stream",
     "text": [
      "Note: No_of_Travellers for a combo cannot exceed 6 because the maximum seats available for a rental car is 6\n",
      "How many individuals would be traveling:5\n",
      "How many days do you intend to spend for vacation:3\n",
      "You will spend the least amount of money if you go to Paris!\n"
     ]
    }
   ],
   "source": [
    "print(\"Note: No_of_Travellers for a combo cannot exceed 6 because the maximum seats available for a rental car is 6\")\n",
    "No_of_Travellers = input(\"How many individuals would be traveling:\")\n",
    "No_of_Days = input(\"How many days do you intend to spend for vacation:\")\n",
    "def Cheapest_Trip(Cities):\n",
    "    Paris = (float(No_of_Travellers) * ((200) + (20*float(No_of_Days)))) + ((200/7)*float(No_of_Days))\n",
    "    London = (float(No_of_Travellers) * ((250) + (30*float(No_of_Days)))) + ((120/7)*float(No_of_Days))\n",
    "    Dubai = (float(No_of_Travellers) * ((370) + (15*float(No_of_Days)))) + ((80/7)*float(No_of_Days))\n",
    "    Mumbai = (float(No_of_Travellers) * ((450) + (10*float(No_of_Days)))) + ((70/7)*float(No_of_Days))\n",
    "    if (Paris < London) and (Paris < Dubai) and (Paris < Mumbai):\n",
    "        print(\"You will spend the least amount of money if you go to Paris!\")\n",
    "    elif (London < Paris) and (London < Dubai) and (London < Mumbai):\n",
    "        print(\"You will spend the least amount of money if you go to London!\")\n",
    "    elif (Dubai < Paris) and (Dubai < London) and (Dubai < Mumbai):\n",
    "        print(\"You will spend the least amount of money if you go to Dubai!\")\n",
    "    elif Dubai == Mumbai:\n",
    "        print(\"You will spend the least amount of money if you go to Dubai or Mumbai!\")\n",
    "    elif Dubai == London:\n",
    "        print(\"You will spend the least amount of money if you go to London or Dubai!\")\n",
    "    elif Dubai == Paris:\n",
    "        print(\"You will spend the least amount of money if you go to Paris or Dubai!\")\n",
    "    elif Paris == Mumbai:\n",
    "        print(\"You will spend the least amount of money if you go to Paris or Mumbai!\")\n",
    "    elif Paris == London:\n",
    "        print(\"You will spend the least amount of money if you go to London or Paris!\")\n",
    "    elif London == Mumbai:\n",
    "        print(\"You will spend the least amount of money if you go to Mumbai or London!\")\n",
    "    else:\n",
    "        print(\"You will spend the least amount of money if you go to Mumbai!\")\n",
    "\n",
    "Cities = [\"Paris\", \"London\", \"Dubai\", \"Mumbai\"]\n",
    "Cheapest_Trip(Cities)"
   ]
  },
  {
   "cell_type": "markdown",
   "id": "9a511dd0",
   "metadata": {},
   "source": [
    "### The above code helps determine the destination where a customer would spend the least amount of money. We can also write a function that will tell us the most expensive destination among the four cities. It also depends on the variables/data collected from the customer. Lets do that below."
   ]
  },
  {
   "cell_type": "code",
   "execution_count": 8,
   "id": "b9f0ce33",
   "metadata": {},
   "outputs": [
    {
     "name": "stdout",
     "output_type": "stream",
     "text": [
      "Note: No_of_Travellers for a combo cannot exceed 6 because the maximum seats available for a rental car is 6\n",
      "How many individuals would be traveling:5\n",
      "How many days do you intend to spend for vacation:7\n",
      "You will spend the most amount of money if you go to Mumbai!\n"
     ]
    }
   ],
   "source": [
    "print(\"Note: No_of_Travellers for a combo cannot exceed 6 because the maximum seats available for a rental car is 6\")\n",
    "No_of_Travellers = input(\"How many individuals would be traveling:\")\n",
    "No_of_Days = input(\"How many days do you intend to spend for vacation:\")\n",
    "def Most_Expensive_Trip(Cities):\n",
    "    Paris = (float(No_of_Travellers) * ((200) + (20*float(No_of_Days)))) + ((200/7)*float(No_of_Days))\n",
    "    London = (float(No_of_Travellers) * ((250) + (30*float(No_of_Days)))) + ((120/7)*float(No_of_Days))\n",
    "    Dubai = (float(No_of_Travellers) * ((370) + (15*float(No_of_Days)))) + ((80/7)*float(No_of_Days))\n",
    "    Mumbai = (float(No_of_Travellers) * ((450) + (10*float(No_of_Days)))) + ((70/7)*float(No_of_Days))\n",
    "    if (Paris > London) and (Paris > Dubai) and (Paris > Mumbai):\n",
    "        print(\"You will spend the most amount of money if you go to Paris!\")\n",
    "    elif (London > Paris) and (London > Dubai) and (London > Mumbai):\n",
    "        print(\"You will spend the most amount of money if you go to London!\")\n",
    "    elif (Dubai > Paris) and (Dubai > London) and (Dubai > Mumbai):\n",
    "        print(\"You will spend the most amount of money if you go to Dubai!\")\n",
    "    elif Dubai == Mumbai:\n",
    "        print(\"You will spend the most amount of money if you go to Dubai or Mumbai!\")\n",
    "    elif Dubai == London:\n",
    "        print(\"You will spend the most amount of money if you go to London or Dubai!\")\n",
    "    elif Dubai == Paris:\n",
    "        print(\"You will spend the most amount of money if you go to Paris or Dubai!\")\n",
    "    elif Paris == Mumbai:\n",
    "        print(\"You will spend the most amount of money if you go to Paris or Mumbai!\")\n",
    "    elif Paris == London:\n",
    "        print(\"You will spend the most amount of money if you go to London or Paris!\")\n",
    "    elif London == Mumbai:\n",
    "        print(\"You will spend the most amount of money if you go to Mumbai or London!\")\n",
    "    else:\n",
    "        print(\"You will spend the most amount of money if you go to Mumbai!\")\n",
    "\n",
    "Cities = [\"Paris\", \"London\", \"Dubai\", \"Mumbai\"]\n",
    "Most_Expensive_Trip(Cities)"
   ]
  },
  {
   "cell_type": "markdown",
   "id": "4a838d46",
   "metadata": {},
   "source": [
    "### The third question a question a customer may have during their decision making process maybe which city fits his/her budget.To help such customers , we can write a function that calculates the length of stay measured in days. The fuction calculates an estimate in number of days for each of the four city and returns the city with the highest estimated length of stay measured in days."
   ]
  },
  {
   "cell_type": "markdown",
   "id": "c65c7471",
   "metadata": {},
   "source": [
    "### Before we go into the function, lets get a clearer view of what the fuction would do. Take a look at the line of code below"
   ]
  },
  {
   "cell_type": "code",
   "execution_count": 9,
   "id": "d67621a9",
   "metadata": {},
   "outputs": [
    {
     "name": "stdout",
     "output_type": "stream",
     "text": [
      "Note: No_of_Travellers for a combo cannot exceed 6 because the maximum seats available for a rental car is 6\n",
      "37.1 37.1 61.7 77.5\n"
     ]
    }
   ],
   "source": [
    "print(\"Note: No_of_Travellers for a combo cannot exceed 6 because the maximum seats available for a rental car is 6\")\n",
    "No_of_Travellers = 1\n",
    "Budget = 2000\n",
    "if(float(Budget) < 1000):\n",
    "    print (\"You do not have sufficient fund to travel\")\n",
    "else:\n",
    "    Paris_ = ((float(Budget) - (200 * float(No_of_Travellers))) / (((20*float(No_of_Travellers))) + ((200/7))))\n",
    "    London_ = ((float(Budget) - (250 * float(No_of_Travellers))) / (((30*float(No_of_Travellers))) + ((120/7))))\n",
    "    Dubai_ = ((float(Budget) - (370 * float(No_of_Travellers))) / (((15*float(No_of_Travellers))) + ((80/7))))\n",
    "    Mumbai_ = ((float(Budget) - (450 * float(No_of_Travellers))) / (((10*float(No_of_Travellers))) + ((70/7))))\n",
    "    Paris = round(Paris_, 1)\n",
    "    London= round(London_, 1)\n",
    "    Dubai= round(Dubai_, 1)\n",
    "    Mumbai=round(Mumbai_, 1)\n",
    "\n",
    "    Cities =[\"Paris\", \"London\", \"Dubai\", \"Mumbai\"]\n",
    "\n",
    "\n",
    "    print(Paris, London, Dubai, Mumbai)\n"
   ]
  },
  {
   "cell_type": "markdown",
   "id": "099737ac",
   "metadata": {},
   "source": [
    "### The results (above) show that based on the budget of $2000, 1 visitor can travel to Mubai for  77 full days whereas the individual customer can only stay for 37 days in Paris or London based on their budget"
   ]
  },
  {
   "cell_type": "markdown",
   "id": "d19b7ee4",
   "metadata": {},
   "source": [
    "$$$$"
   ]
  },
  {
   "cell_type": "markdown",
   "id": "5be50bb4",
   "metadata": {},
   "source": [
    "### Let's now profer solution to customers/online site visitors who have a travel budget and are curious to know how long they can stay in each of the four cities and remain within their budget"
   ]
  },
  {
   "cell_type": "code",
   "execution_count": 20,
   "id": "6afcdb83",
   "metadata": {},
   "outputs": [
    {
     "name": "stdout",
     "output_type": "stream",
     "text": [
      "Note: No_of_Travellers for a combo cannot exceed 6 because the maximum seats available for a rental car is 6\n",
      "How many individuals would be traveling:2\n",
      "What is your budget:5000\n",
      "For a budget of 5000, 2 person(s) can travel to:\n",
      " Dubai for 102.82758620689654 days.\n",
      " Paris for 67.08333333333333 days.\n",
      " London for 58.333333333333336 days.\n",
      " Mumbai for 136.66666666666666 days.\n"
     ]
    }
   ],
   "source": [
    "print(\"Note: No_of_Travellers for a combo cannot exceed 6 because the maximum seats available for a rental car is 6\")\n",
    "#Length_of_Stay = [Budget - Return_Ticket] / [(Hotel_per_day + (Weekly Car Rental/7))*No_of_Days]\n",
    "# The value of Length_of_Stay is a scale that shows the inverse relation between the cost of visiting a city and the\n",
    "#...possible length of days you can stay in that city).\n",
    "#The lower the cost of living, the higher the purchasing power(The longer you can stay in that city)\n",
    "No_of_Travellers = input(\"How many individuals would be traveling:\")\n",
    "Budget = input(\"What is your budget:\")\n",
    "if(float(Budget) < 1000):\n",
    "    print (\"You do not have sufficient fund to travel\")\n",
    "else:\n",
    "    def Max_Stay(Cities):\n",
    "        Paris = ((float(Budget) - (200 * float(No_of_Travellers))) / (((20*float(No_of_Travellers))) + ((200/7))))\n",
    "        London = ((float(Budget) - (250 * float(No_of_Travellers))) / (((30*float(No_of_Travellers))) + ((120/7))))\n",
    "        Dubai = ((float(Budget) - (370 * float(No_of_Travellers))) / (((15*float(No_of_Travellers))) + ((80/7))))\n",
    "        Mumbai = ((float(Budget) - (450 * float(No_of_Travellers))) / (((10*float(No_of_Travellers))) + ((70/7))))\n",
    "        print(\"For a budget of \" + str(Budget) + \", {} person(s) can travel to:\\n Dubai for \".format(No_of_Travellers) + str(Dubai) + \" days.\\n Paris for \" + str(Paris) + \" days.\\n London for \" + str(London) + \" days.\\n Mumbai for \" + str(Mumbai) + \" days.\" )\n",
    "    \n",
    "    Cities =[\"Paris\", \"London\", \"Dubai\", \"Mumbai\"]\n",
    "    Max_Stay(Cities)"
   ]
  },
  {
   "cell_type": "markdown",
   "id": "01066bf8",
   "metadata": {},
   "source": [
    "\n"
   ]
  },
  {
   "cell_type": "markdown",
   "id": "f47a557a",
   "metadata": {},
   "source": [
    "$$$$"
   ]
  },
  {
   "cell_type": "markdown",
   "id": "627772b0",
   "metadata": {},
   "source": [
    "# Bonus code for lazy customers (hahaha) who just want to know where they will spend the most days based on their budget. This code will provide them with a direct answer."
   ]
  },
  {
   "cell_type": "code",
   "execution_count": 17,
   "id": "0a92be27",
   "metadata": {},
   "outputs": [
    {
     "name": "stdout",
     "output_type": "stream",
     "text": [
      "Note: No_of_Travellers for a combo cannot exceed 6 because the maximum seats available for a rental car is 6\n",
      "How many individuals would be traveling:1\n",
      "What is your budget:2000\n",
      "You will have the maximum stay of 77.5 days in Mumbai base on your budget!\n"
     ]
    }
   ],
   "source": [
    "print(\"Note: No_of_Travellers for a combo cannot exceed 6 because the maximum seats available for a rental car is 6\")\n",
    "#Length_of_Stay = [Budget - Return_Ticket] / [(Hotel_per_day + (Weekly Car Rental/7))*No_of_Days]\n",
    "# The value of Length_of_Stay is a scale that shows the inverse relation between the cost of visiting a city and the\n",
    "#...possible length of days you can stay in that city).\n",
    "#The lower the cost of living, the higher the purchasing power(The longer you can stay in that city)\n",
    "No_of_Travellers = input(\"How many individuals would be traveling:\")\n",
    "Budget = input(\"What is your budget:\")\n",
    "if(float(Budget) < 1000):\n",
    "    print (\"You do not have sufficient fund to travel\")\n",
    "else:\n",
    "    def Max_Stay(Cities):\n",
    "        Paris = ((float(Budget) - (200 * float(No_of_Travellers))) / (((20*float(No_of_Travellers))) + ((200/7))))\n",
    "        London = ((float(Budget) - (250 * float(No_of_Travellers))) / (((30*float(No_of_Travellers))) + ((120/7))))\n",
    "        Dubai = ((float(Budget) - (370 * float(No_of_Travellers))) / (((15*float(No_of_Travellers))) + ((80/7))))\n",
    "        Mumbai = ((float(Budget) - (450 * float(No_of_Travellers))) / (((10*float(No_of_Travellers))) + ((70/7))))\n",
    "        if (Paris > London) and (Paris > Dubai) and (Paris > Mumbai):\n",
    "            print(\"You will have the maximum stay of {} days in Paris base on your budget!\".format(Paris))\n",
    "        elif (London > Paris) and (London > Dubai) and (London > Mumbai):\n",
    "            print(\"You will have the maximum stay of {} days in London base on your budget!\".format(London))\n",
    "        elif (Dubai > Paris) and (Dubai > London) and (Dubai > Mumbai):\n",
    "            print(\"You will have the maximum stay of {} days in Dubai base on your budget!\".format(Dubai))\n",
    "        elif (Mumbai>Paris) and (Mumbai> London) and (Mumbai>Dubai):\n",
    "            print(\"You will have the maximum stay of {} days in Mumbai base on your budget!\".format(Mumbai))\n",
    "    \n",
    "    Cities =[\"Paris\", \"London\", \"Dubai\", \"Mumbai\"]\n",
    "    Max_Stay(Cities)"
   ]
  },
  {
   "cell_type": "code",
   "execution_count": null,
   "id": "949efdec",
   "metadata": {},
   "outputs": [],
   "source": []
  }
 ],
 "metadata": {
  "kernelspec": {
   "display_name": "Python 3 (ipykernel)",
   "language": "python",
   "name": "python3"
  },
  "language_info": {
   "codemirror_mode": {
    "name": "ipython",
    "version": 3
   },
   "file_extension": ".py",
   "mimetype": "text/x-python",
   "name": "python",
   "nbconvert_exporter": "python",
   "pygments_lexer": "ipython3",
   "version": "3.9.12"
  }
 },
 "nbformat": 4,
 "nbformat_minor": 5
}
